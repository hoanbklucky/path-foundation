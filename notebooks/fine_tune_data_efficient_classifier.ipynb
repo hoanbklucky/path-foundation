{
  "cells": [
    {
      "cell_type": "markdown",
      "metadata": {
        "id": "view-in-github",
        "colab_type": "text"
      },
      "source": [
        "<a href=\"https://colab.research.google.com/github/hoanbklucky/path-foundation/blob/master/notebooks/fine_tune_data_efficient_classifier.ipynb\" target=\"_parent\"><img src=\"https://colab.research.google.com/assets/colab-badge.svg\" alt=\"Open In Colab\"/></a>"
      ]
    },
    {
      "cell_type": "markdown",
      "metadata": {
        "id": "O5eciEDyU6BP"
      },
      "source": [
        "~~~\n",
        "Copyright 2024 Google LLC\n",
        "\n",
        "Licensed under the Apache License, Version 2.0 (the \"License\");\n",
        "you may not use this file except in compliance with the License.\n",
        "You may obtain a copy of the License at\n",
        "\n",
        "    https://www.apache.org/licenses/LICENSE-2.0\n",
        "\n",
        "Unless required by applicable law or agreed to in writing, software\n",
        "distributed under the License is distributed on an \"AS IS\" BASIS,\n",
        "WITHOUT WARRANTIES OR CONDITIONS OF ANY KIND, either express or implied.\n",
        "See the License for the specific language governing permissions and\n",
        "limitations under the License.\n",
        "~~~\n",
        "\n",
        "<table><tbody><tr>\n",
        "  <td style=\"text-align: center\">\n",
        "    <a href=\"https://colab.research.google.com/github/google-health/path-foundation/blob/master/notebooks/fine_tune_data_efficient_classifier.ipynb\">\n",
        "      <img alt=\"Google Colab logo\" src=\"https://www.tensorflow.org/images/colab_logo_32px.png\" width=\"32px\"><br> Run in Google Colab\n",
        "    </a>\n",
        "  </td>\n",
        "  <td style=\"text-align: center\">\n",
        "    <a href=\"https://github.com/google-health/path-foundation/blob/master/notebooks/fine_tune_data_efficient_classifier.ipynb\">\n",
        "      <img alt=\"GitHub logo\" src=\"https://cloud.google.com/ml-engine/images/github-logo-32px.png\" width=\"32px\"><br> View on GitHub\n",
        "    </a>\n",
        "  </td>\n",
        "  <td style=\"text-align: center\">\n",
        "    <a href=\"https://huggingface.co/google/path-foundation\">\n",
        "      <img alt=\"HuggingFace logo\" src=\"https://huggingface.co/front/assets/huggingface_logo-noborder.svg\" width=\"32px\"><br> View on HuggingFace\n",
        "    </a>\n",
        "  </td>\n",
        "  <td style=\"text-align: center\">\n",
        "  <a href=\"https://console.cloud.google.com/vertex-ai/colab/import/https:%2F%2Fraw.githubusercontent.com%2Fgoogle-health%2Fcxr-foundation%2Fmaster%2Fnotebooks%2Ffine_tune_data_efficient_classifier.ipynb\">\n",
        "    <img alt=\"Google Cloud Colab Enterprise logo\" src=\"https://lh3.googleusercontent.com/JmcxdQi-qOpctIvWKgPtrzZdJJK-J3sWE1RsfjZNwshCFgE_9fULcNpuXYTilIR2hjwN\" width=\"32px\"><br> Run in Colab Enterprise\n",
        "  </a>\n",
        "</td>\n",
        "</tr></tbody></table>\n",
        "\n",
        "\n",
        "# Fine-tuning the Hugging Face Pathology Model for Classification\n",
        "\n",
        "This notebook demonstrates how to fine-tune the Hugging Face `path-foundation` model for binary classification of pathology images. It uses a subset of the [CAMELYON16](https://camelyon16.grand-challenge.org/) dataset (containing lymph node images) to train the model to distinguish between cancerous and benign tissues. The notebook covers the entire workflow: downloading and preparing the dataset, fine-tuning the pre-trained model using TensorFlow and Keras, and finally, evaluating the model's performance on a held-out evaluation set.\n",
        "\n",
        "**Additional details**: For this demo, patches sampled from whole slide images (WSIs) are downloaded from Google Cloud Storage. A subset of the patches will be sampled randomly from across all available slides and be prepared for finetuning.\n",
        "\n",
        "**Dataset**: This notebook uses the [CAMELYON16](https://camelyon16.grand-challenge.org/) dataset, which contains WSIs from lymph node specimens with and without metastatic breast cancer. Any work that uses this dataset should consider additional details along with usage and citation requirements listed on [their website](https://camelyon17.grand-challenge.org/Data/).\n",
        "\n",
        "**Dataset citation**: Babak Ehteshami Bejnordi; Mitko Veta; Paul Johannes van Diest; Bram van Ginneken; Nico Karssemeijer; Geert Litjens; Jeroen A. W. M. van der Laak; and the CAMELYON16 Consortium. Diagnostic Assessment of Deep Learning Algorithms for Detection of Lymph Node Metastases in Women With Breast Cancer. JAMA. 2017;318(22):2199–2210. DOI: 10.1001/jama.2017.14585\n",
        "\n",
        "> **NOTE:** This colab which trains a classifier by fine-tuning the HuggingFace model takes a long time to run."
      ]
    },
    {
      "cell_type": "code",
      "execution_count": 1,
      "metadata": {
        "id": "axippFnR8-iF",
        "colab": {
          "base_uri": "https://localhost:8080/"
        },
        "outputId": "35381a15-52d8-4453-9809-1948cab8f5c5"
      },
      "outputs": [
        {
          "output_type": "stream",
          "name": "stdout",
          "text": [
            "Token already set.\n"
          ]
        }
      ],
      "source": [
        "# @title Authenticate with Hugging Face\n",
        "from huggingface_hub.utils import HfFolder\n",
        "\n",
        "if HfFolder.get_token() is None:\n",
        "  from huggingface_hub import notebook_login\n",
        "  notebook_login()\n",
        "else:\n",
        "  print('Token already set.')"
      ]
    },
    {
      "cell_type": "code",
      "source": [
        "# @title Fetch HuggingFace model\n",
        "%%capture\n",
        "from huggingface_hub import from_pretrained_keras\n",
        "model_hf = from_pretrained_keras('google/path-foundation', compile=False)"
      ],
      "metadata": {
        "id": "NytAxWHCtJYZ",
        "outputId": "75884759-5ab0-4bc5-bc11-9e9865575388",
        "colab": {
          "base_uri": "https://localhost:8080/",
          "height": 110
        }
      },
      "execution_count": 2,
      "outputs": [
        {
          "output_type": "stream",
          "name": "stderr",
          "text": [
            "WARNING:absl:Importing a function (__inference_internal_grad_fn_9955) with ops with unsaved custom gradients. Will likely fail if a gradient is requested.\n",
            "WARNING:absl:Importing a function (__inference_internal_grad_fn_13675) with ops with unsaved custom gradients. Will likely fail if a gradient is requested.\n",
            "WARNING:absl:Importing a function (__inference_internal_grad_fn_11815) with ops with unsaved custom gradients. Will likely fail if a gradient is requested.\n",
            "WARNING:tensorflow:No training configuration found in save file, so the model was *not* compiled. Compile it manually.\n"
          ]
        }
      ]
    },
    {
      "cell_type": "code",
      "execution_count": 3,
      "metadata": {
        "id": "US1lYjpwF6hh"
      },
      "outputs": [],
      "source": [
        "# @title Select a random subset of imaging for training and evaluation, then copy locally\n",
        "%%capture\n",
        "\n",
        "import os\n",
        "import random\n",
        "\n",
        "# Settings for dataset\n",
        "randomize_dataset = False  # @param {Type: 'boolean'}\n",
        "TRAINING_SIZE = 128 # @param {Type: 'int'}\n",
        "EVAL_SIZE = 64 # @param {Type: 'int'}\n",
        "BUCKET_PREFIX = \"gs://healthai-us/\"\n",
        "\n",
        "# Define the commands to fetch and prepare datasets\n",
        "def fetch_file_names(category, division, size):\n",
        "    path = f\"pathology/{division}/{category}\"\n",
        "    !mkdir -p {path}\n",
        "    # Fetch file names using gsutil\n",
        "    full_paths = !gsutil ls {BUCKET_PREFIX}{path}/**\n",
        "    if randomize_dataset:\n",
        "      full_paths = random.sample(full_paths, len(full_paths))\n",
        "    selected_paths = full_paths[:size]\n",
        "    file_urls = ' '.join(selected_paths)\n",
        "    !gsutil -m cp -n {file_urls} {path}\n",
        "    # Select required number of examples and strip the bucket prefix\n",
        "    return [fp.replace(BUCKET_PREFIX, '') for fp in selected_paths]\n",
        "\n",
        "# Collect file paths for each category and division\n",
        "cancer_imaging_training = fetch_file_names('cancer', 'training', TRAINING_SIZE)\n",
        "benign_imaging_training = fetch_file_names('benign', 'training', TRAINING_SIZE)\n",
        "cancer_imaging_eval = fetch_file_names('cancer', 'eval', EVAL_SIZE)\n",
        "benign_imaging_eval = fetch_file_names('benign', 'eval', EVAL_SIZE)\n"
      ]
    },
    {
      "cell_type": "code",
      "source": [
        "# @title Images to model inputs\n",
        "from PIL import Image as PILImage\n",
        "import tensorflow as tf\n",
        "import numpy as np\n",
        "\n",
        "def image_path_to_input_tensor(path):\n",
        "  \"\"\"\n",
        "  Opens an image file, converts it to a TensorFlow tensor, and scales pixel\n",
        "  values to the range [0, 1]. Images in the dataset used in this colab are\n",
        "  already 224x224 pixels. In other cases, you must crop your images to this size\n",
        "  before passing them to the model.\n",
        "  \"\"\"\n",
        "  img = PILImage.open(path).convert('RGB')\n",
        "  return tf.cast(tf.expand_dims(np.array(img), axis=0), tf.float32) / 255.0\n",
        "\n",
        "training_cancer_normalized_images = [\n",
        "    image_path_to_input_tensor(path) for path in cancer_imaging_training]\n",
        "training_benign_normalized_images = [\n",
        "    image_path_to_input_tensor(path) for path in benign_imaging_training]\n",
        "eval_cancer_normalized_images = [\n",
        "    image_path_to_input_tensor(path) for path in cancer_imaging_eval]\n",
        "eval_benign_normalized_images = [\n",
        "    image_path_to_input_tensor(path) for path in benign_imaging_eval]"
      ],
      "metadata": {
        "id": "JYK7QEcOtrOx"
      },
      "execution_count": 4,
      "outputs": []
    },
    {
      "cell_type": "code",
      "source": [
        "# @title Configure model for classification and prepare data for training\n",
        "import numpy as np\n",
        "\n",
        "import tensorflow as tf\n",
        "from tf_keras import Sequential\n",
        "from tf_keras.models import Model\n",
        "from tf_keras.layers import Dense, Layer, Dropout\n",
        "from tf_keras.optimizers import Adam\n",
        "from tf_keras.utils import to_categorical\n",
        "from tf_keras.callbacks import ReduceLROnPlateau, EarlyStopping\n",
        "\n",
        "class EmbeddingLayer(Layer):\n",
        "  \"\"\"A custom Keras layer that wraps a pre-trained embedding model for fine-tuning.\"\"\"\n",
        "\n",
        "  def __init__(self, model, **kwargs):\n",
        "    \"\"\" Initialize the EmbeddingLayer with a pre-trained model. \"\"\"\n",
        "    super().__init__(**kwargs)\n",
        "    self.embedding_model = model\n",
        "\n",
        "  @tf.function\n",
        "  def call(self, inputs):\n",
        "    \"\"\" Compute embeddings by passing inputs through the embedding model. \"\"\"\n",
        "    return self.embedding_model(inputs)\n",
        "\n",
        "  def get_config(self):\n",
        "      \"\"\"Returns the config of the layer.\"\"\"\n",
        "      base_config = super(EmbeddingLayer, self).get_config()\n",
        "      config = {\n",
        "          \"embedding_model\": tf.keras.utils.serialize_keras_object(self.embedding_model),\n",
        "      }\n",
        "      return {**base_config, **config}\n",
        "\n",
        "  @classmethod\n",
        "  def from_config(cls, config):\n",
        "      \"\"\"Creates a layer from its config.\"\"\"\n",
        "      from tf_keras.models import model_from_config\n",
        "      embedding_model_config = config.pop(\"embedding_model\")\n",
        "      embedding_model = tf.keras.utils.deserialize_keras_object(embedding_model_config)\n",
        "      return cls(embedding_model, **config)\n",
        "\n",
        "\n",
        "def train(model, learning_rate=1e-4):\n",
        "    # Callbacks:\n",
        "    # - ReduceLROnPlateau lowers the learning rate when val_loss stops improving.\n",
        "    # - EarlyStopping stops training early if val_loss doesn't improve, restoring the best weights.\n",
        "    lr_callback = ReduceLROnPlateau(monitor='val_loss', factor=0.5, patience=2, verbose=1)\n",
        "    early_stopping = EarlyStopping(monitor='val_accuracy', patience=5, restore_best_weights=True, verbose=1)\n",
        "    with tf.device('/GPU:0'):\n",
        "      model.compile(optimizer=Adam(learning_rate=learning_rate), loss='categorical_crossentropy', metrics=['accuracy'])\n",
        "      print('Start training model')\n",
        "      model.build(input_shape=(None, 224, 224, 3))  # To be able to display summary\n",
        "      model.summary(expand_nested=True, show_trainable=True)\n",
        "      model.fit(\n",
        "          training_images,\n",
        "          to_categorical(training_labels, num_classes=NUM_CLASSES),\n",
        "          epochs=40,\n",
        "          batch_size=64,\n",
        "          validation_data=(\n",
        "              eval_images,\n",
        "              to_categorical(eval_labels, num_classes=NUM_CLASSES)\n",
        "          ),\n",
        "          callbacks=[lr_callback, early_stopping]\n",
        "      )\n",
        "\n",
        "# Total number of classes for classification.\n",
        "NUM_CLASSES = 2\n",
        "\n",
        "\n",
        "# Wrap the pre-trained model in a custom embedding layer\n",
        "embedding_layer = EmbeddingLayer(model_hf, name='embedding')\n",
        "\n",
        "# Add a dense output layer for classification\n",
        "classification_layer = Dense(NUM_CLASSES, activation='softmax', dtype='float32', name='classification_output')\n",
        "\n",
        "# Build the new sequential model for pathology image classification,\n",
        "# consisting of an embedding layer, dropout for regularization, and a classification layer.\n",
        "new_model = Sequential([embedding_layer, Dropout(0.1), classification_layer], name='path_classifer')\n",
        "\n",
        "# Combine cancer and benign images into a single training dataset, assigning labels:\n",
        "# 1 for cancer images, 0 for benign images.\n",
        "training_images = tf.concat(training_cancer_normalized_images + training_benign_normalized_images, axis=0)\n",
        "training_labels = tf.constant([1] * len(training_cancer_normalized_images) + [0] * len(training_benign_normalized_images))\n",
        "\n",
        "# Similarly, prepare evaluation images and labels.\n",
        "eval_images = tf.concat(eval_cancer_normalized_images + eval_benign_normalized_images, axis=0)\n",
        "eval_labels = tf.constant([1] * len(eval_cancer_normalized_images) + [0] * len(eval_benign_normalized_images))\n"
      ],
      "metadata": {
        "id": "eVcwaAfNQ2IF"
      },
      "execution_count": 6,
      "outputs": []
    },
    {
      "cell_type": "code",
      "source": [
        "# @title Train the classification layer\n",
        "\n",
        "print(\"\"\"\n",
        "  Fine-tuning this model takes a while (~3 hours on CPU),\n",
        "  depending on your Colab runtime's resources. Please be patient.\n",
        "  \"\"\")\n",
        "\n",
        "# Freeze the embedding layer and train only the new classification layer.\n",
        "embedding_layer.trainable = False\n",
        "classification_layer.trainable = True\n",
        "train(new_model, learning_rate=1e-3)\n",
        "\n"
      ],
      "metadata": {
        "colab": {
          "base_uri": "https://localhost:8080/"
        },
        "id": "qqJwZI6KyEUs",
        "outputId": "c6ea3e85-a24f-4389-da5d-f2f073e9ff33"
      },
      "execution_count": null,
      "outputs": [
        {
          "output_type": "stream",
          "name": "stdout",
          "text": [
            "\n",
            "  Fine-tuning this model takes a while (~3 hours on CPU),\n",
            "  depending on your Colab runtime's resources. Please be patient.\n",
            "  \n",
            "Start training model\n",
            "Model: \"path_classifer\"\n",
            "____________________________________________________________________________\n",
            " Layer (type)                Output Shape              Param #   Trainable  \n",
            "============================================================================\n",
            " embedding (EmbeddingLayer)  (None, 384)               2745984   N          \n",
            "                                                       0                    \n",
            "                                                                            \n",
            " dropout_1 (Dropout)         (None, 384)               0         Y          \n",
            "                                                                            \n",
            " classification_output (Den  (None, 2)                 770       Y          \n",
            " se)                                                                        \n",
            "                                                                            \n",
            "============================================================================\n",
            "Total params: 27460610 (104.75 MB)\n",
            "Trainable params: 770 (3.01 KB)\n",
            "Non-trainable params: 27459840 (104.75 MB)\n",
            "____________________________________________________________________________\n",
            "Epoch 1/40\n"
          ]
        }
      ]
    },
    {
      "cell_type": "code",
      "source": [
        "# @title Unfreeze the layer containing the HuggingFace model and fine-tune the combined model\n",
        "\n",
        "# Unfreeze the pretrained embedding layer to futher improve model for this task.\n",
        "before_weights = new_model.layers[0].embedding_model.variables[0][0, 0, :10].numpy()\n",
        "embedding_layer.trainable = True\n",
        "classification_layer.trainable = True\n",
        "train(new_model, 1e-5)\n",
        "\n",
        "print('\\n### Did weights change?')\n",
        "print('Before sample weights from embedding layer:\\n', before_weights)\n",
        "print('Same weights after fine-tuning:\\n', new_model.layers[0].embedding_model.variables[0][0, 0, :10].numpy())\n",
        "\n",
        "# Save the fine-tuned model to disk\n",
        "tf.saved_model.save(new_model, 'fine_tuned_model')"
      ],
      "metadata": {
        "id": "078FwUvSdYzL"
      },
      "execution_count": null,
      "outputs": []
    },
    {
      "cell_type": "code",
      "source": [
        "# @title Perform Inference using the Fine-tuned Model\n",
        "\n",
        "# Load the fine-tuned model from disk\n",
        "model_finetuned = tf.saved_model.load('fine_tuned_model')\n",
        "\n",
        "np.set_printoptions(formatter={'float_kind': lambda x: \"{:.6f}\".format(x)})\n",
        "\n",
        "eval_predictions = []\n",
        "eval_ground_truth = []\n",
        "\n",
        "print('\\n\\nEach prediction is a probability distribution over [benign, cancer].')\n",
        "print('For example: [0.123, 0.877] means a ~12.3% chance benign and ~87.7% chance cancer.')\n",
        "print('\\n\\nRun prediction for eval set:')\n",
        "\n",
        "print('=== Ground truth: cancer ===')\n",
        "for image in eval_cancer_normalized_images:\n",
        "  prediction = model_finetuned(image).numpy()\n",
        "  eval_predictions.append(prediction[0][1])\n",
        "  eval_ground_truth.append(1)  # 1 for cancer\n",
        "  print('Predictions for [benign, cancer]:', prediction)\n",
        "\n",
        "print('\\n=== Ground truth: benign ===')\n",
        "for image in eval_benign_normalized_images:\n",
        "  prediction = model_finetuned(image).numpy()\n",
        "  eval_predictions.append(prediction[0][1])\n",
        "  eval_ground_truth.append(0)  # 0 for benign\n",
        "  print('Predictions for [benign, cancer]:', prediction)"
      ],
      "metadata": {
        "id": "GV7Tr6A-8cJJ",
        "colab": {
          "base_uri": "https://localhost:8080/"
        },
        "outputId": "83ee475b-ed9f-4d27-8700-2c070e595c68"
      },
      "execution_count": null,
      "outputs": [
        {
          "output_type": "stream",
          "name": "stderr",
          "text": [
            "WARNING:absl:Importing a function (__inference_internal_grad_fn_8922) with ops with unsaved custom gradients. Will likely fail if a gradient is requested.\n",
            "WARNING:absl:Importing a function (__inference_internal_grad_fn_2497) with ops with unsaved custom gradients. Will likely fail if a gradient is requested.\n",
            "WARNING:absl:Importing a function (__inference_internal_grad_fn_5186) with ops with unsaved custom gradients. Will likely fail if a gradient is requested.\n"
          ]
        },
        {
          "output_type": "stream",
          "name": "stdout",
          "text": [
            "\n",
            "\n",
            "Each prediction is a probability distribution over [benign, cancer].\n",
            "For example: [0.123, 0.877] means a ~12.3% chance benign and ~87.7% chance cancer.\n",
            "\n",
            "\n",
            "Run prediction for eval set:\n",
            "=== Ground truth: cancer ===\n",
            "Predictions for [benign, cancer]: [[0.978491 0.021509]]\n",
            "Predictions for [benign, cancer]: [[0.001018 0.998982]]\n",
            "Predictions for [benign, cancer]: [[0.056724 0.943276]]\n",
            "Predictions for [benign, cancer]: [[0.000026 0.999974]]\n",
            "Predictions for [benign, cancer]: [[0.001582 0.998418]]\n",
            "Predictions for [benign, cancer]: [[0.000045 0.999955]]\n",
            "Predictions for [benign, cancer]: [[0.235934 0.764066]]\n",
            "Predictions for [benign, cancer]: [[0.000142 0.999858]]\n",
            "Predictions for [benign, cancer]: [[0.040590 0.959410]]\n",
            "Predictions for [benign, cancer]: [[0.003677 0.996323]]\n",
            "Predictions for [benign, cancer]: [[0.014345 0.985655]]\n",
            "Predictions for [benign, cancer]: [[0.000431 0.999569]]\n",
            "Predictions for [benign, cancer]: [[0.000075 0.999925]]\n",
            "Predictions for [benign, cancer]: [[0.030348 0.969652]]\n",
            "Predictions for [benign, cancer]: [[0.000003 0.999997]]\n",
            "Predictions for [benign, cancer]: [[0.000054 0.999946]]\n",
            "Predictions for [benign, cancer]: [[0.239163 0.760837]]\n",
            "Predictions for [benign, cancer]: [[0.179411 0.820589]]\n",
            "Predictions for [benign, cancer]: [[0.000001 0.999999]]\n",
            "Predictions for [benign, cancer]: [[0.001154 0.998846]]\n",
            "Predictions for [benign, cancer]: [[0.096555 0.903445]]\n",
            "Predictions for [benign, cancer]: [[0.000047 0.999953]]\n",
            "Predictions for [benign, cancer]: [[0.001007 0.998993]]\n",
            "Predictions for [benign, cancer]: [[0.001161 0.998839]]\n",
            "Predictions for [benign, cancer]: [[0.000269 0.999731]]\n",
            "Predictions for [benign, cancer]: [[0.000084 0.999916]]\n",
            "Predictions for [benign, cancer]: [[0.001321 0.998679]]\n",
            "Predictions for [benign, cancer]: [[0.000163 0.999837]]\n",
            "Predictions for [benign, cancer]: [[0.038746 0.961254]]\n",
            "Predictions for [benign, cancer]: [[0.010016 0.989984]]\n",
            "Predictions for [benign, cancer]: [[0.000001 0.999999]]\n",
            "Predictions for [benign, cancer]: [[0.027814 0.972186]]\n",
            "Predictions for [benign, cancer]: [[0.000068 0.999933]]\n",
            "Predictions for [benign, cancer]: [[0.029330 0.970670]]\n",
            "Predictions for [benign, cancer]: [[0.216402 0.783598]]\n",
            "Predictions for [benign, cancer]: [[0.000016 0.999984]]\n",
            "Predictions for [benign, cancer]: [[0.000024 0.999976]]\n",
            "Predictions for [benign, cancer]: [[0.000021 0.999979]]\n",
            "Predictions for [benign, cancer]: [[0.001558 0.998442]]\n",
            "Predictions for [benign, cancer]: [[0.000786 0.999214]]\n",
            "Predictions for [benign, cancer]: [[0.062894 0.937106]]\n",
            "Predictions for [benign, cancer]: [[0.000132 0.999868]]\n",
            "Predictions for [benign, cancer]: [[0.000892 0.999108]]\n",
            "Predictions for [benign, cancer]: [[0.000002 0.999998]]\n",
            "Predictions for [benign, cancer]: [[0.000011 0.999989]]\n",
            "Predictions for [benign, cancer]: [[0.024760 0.975240]]\n",
            "Predictions for [benign, cancer]: [[0.000092 0.999908]]\n",
            "Predictions for [benign, cancer]: [[0.000017 0.999983]]\n",
            "Predictions for [benign, cancer]: [[0.022083 0.977917]]\n",
            "Predictions for [benign, cancer]: [[0.000036 0.999964]]\n",
            "Predictions for [benign, cancer]: [[0.002282 0.997718]]\n",
            "Predictions for [benign, cancer]: [[0.000001 0.999999]]\n",
            "Predictions for [benign, cancer]: [[0.010187 0.989813]]\n",
            "Predictions for [benign, cancer]: [[0.258196 0.741804]]\n",
            "Predictions for [benign, cancer]: [[0.073613 0.926387]]\n",
            "Predictions for [benign, cancer]: [[0.001053 0.998947]]\n",
            "Predictions for [benign, cancer]: [[0.554079 0.445921]]\n",
            "Predictions for [benign, cancer]: [[0.000004 0.999996]]\n",
            "Predictions for [benign, cancer]: [[0.007556 0.992444]]\n",
            "Predictions for [benign, cancer]: [[0.000866 0.999134]]\n",
            "Predictions for [benign, cancer]: [[0.001297 0.998703]]\n",
            "Predictions for [benign, cancer]: [[0.000781 0.999219]]\n",
            "Predictions for [benign, cancer]: [[0.001035 0.998965]]\n",
            "Predictions for [benign, cancer]: [[0.000007 0.999993]]\n",
            "\n",
            "=== Ground truth: benign ===\n",
            "Predictions for [benign, cancer]: [[0.999397 0.000603]]\n",
            "Predictions for [benign, cancer]: [[0.997705 0.002295]]\n",
            "Predictions for [benign, cancer]: [[0.999793 0.000207]]\n",
            "Predictions for [benign, cancer]: [[0.998540 0.001460]]\n",
            "Predictions for [benign, cancer]: [[0.931518 0.068482]]\n",
            "Predictions for [benign, cancer]: [[0.997345 0.002655]]\n",
            "Predictions for [benign, cancer]: [[0.910216 0.089784]]\n",
            "Predictions for [benign, cancer]: [[0.999946 0.000054]]\n",
            "Predictions for [benign, cancer]: [[0.946933 0.053067]]\n",
            "Predictions for [benign, cancer]: [[0.990128 0.009872]]\n",
            "Predictions for [benign, cancer]: [[0.998598 0.001402]]\n",
            "Predictions for [benign, cancer]: [[0.851728 0.148272]]\n",
            "Predictions for [benign, cancer]: [[0.979598 0.020402]]\n",
            "Predictions for [benign, cancer]: [[0.999589 0.000411]]\n",
            "Predictions for [benign, cancer]: [[0.992198 0.007802]]\n",
            "Predictions for [benign, cancer]: [[0.983217 0.016783]]\n",
            "Predictions for [benign, cancer]: [[0.023135 0.976865]]\n",
            "Predictions for [benign, cancer]: [[0.008239 0.991761]]\n",
            "Predictions for [benign, cancer]: [[0.957704 0.042296]]\n",
            "Predictions for [benign, cancer]: [[0.042165 0.957835]]\n",
            "Predictions for [benign, cancer]: [[0.998263 0.001737]]\n",
            "Predictions for [benign, cancer]: [[0.999632 0.000368]]\n",
            "Predictions for [benign, cancer]: [[0.991162 0.008838]]\n",
            "Predictions for [benign, cancer]: [[0.999886 0.000114]]\n",
            "Predictions for [benign, cancer]: [[0.998921 0.001079]]\n",
            "Predictions for [benign, cancer]: [[0.999864 0.000137]]\n",
            "Predictions for [benign, cancer]: [[0.999992 0.000008]]\n",
            "Predictions for [benign, cancer]: [[0.962370 0.037630]]\n",
            "Predictions for [benign, cancer]: [[0.999588 0.000412]]\n",
            "Predictions for [benign, cancer]: [[0.985941 0.014059]]\n",
            "Predictions for [benign, cancer]: [[0.980795 0.019205]]\n",
            "Predictions for [benign, cancer]: [[0.999570 0.000430]]\n",
            "Predictions for [benign, cancer]: [[0.999125 0.000875]]\n",
            "Predictions for [benign, cancer]: [[0.999280 0.000720]]\n",
            "Predictions for [benign, cancer]: [[0.999168 0.000832]]\n",
            "Predictions for [benign, cancer]: [[0.977588 0.022412]]\n",
            "Predictions for [benign, cancer]: [[0.437231 0.562769]]\n",
            "Predictions for [benign, cancer]: [[0.999992 0.000008]]\n",
            "Predictions for [benign, cancer]: [[0.971857 0.028143]]\n",
            "Predictions for [benign, cancer]: [[0.999990 0.000010]]\n",
            "Predictions for [benign, cancer]: [[0.865475 0.134525]]\n",
            "Predictions for [benign, cancer]: [[0.999971 0.000029]]\n",
            "Predictions for [benign, cancer]: [[0.999823 0.000177]]\n",
            "Predictions for [benign, cancer]: [[0.999865 0.000135]]\n",
            "Predictions for [benign, cancer]: [[0.990288 0.009712]]\n",
            "Predictions for [benign, cancer]: [[0.999994 0.000006]]\n",
            "Predictions for [benign, cancer]: [[0.768456 0.231544]]\n",
            "Predictions for [benign, cancer]: [[0.988238 0.011762]]\n",
            "Predictions for [benign, cancer]: [[0.999939 0.000061]]\n",
            "Predictions for [benign, cancer]: [[0.990406 0.009594]]\n",
            "Predictions for [benign, cancer]: [[0.143675 0.856325]]\n",
            "Predictions for [benign, cancer]: [[0.998489 0.001511]]\n",
            "Predictions for [benign, cancer]: [[0.997631 0.002369]]\n",
            "Predictions for [benign, cancer]: [[0.999481 0.000519]]\n",
            "Predictions for [benign, cancer]: [[0.998398 0.001602]]\n",
            "Predictions for [benign, cancer]: [[0.988940 0.011060]]\n",
            "Predictions for [benign, cancer]: [[0.796210 0.203790]]\n",
            "Predictions for [benign, cancer]: [[0.999682 0.000318]]\n",
            "Predictions for [benign, cancer]: [[0.383040 0.616960]]\n",
            "Predictions for [benign, cancer]: [[0.999192 0.000808]]\n",
            "Predictions for [benign, cancer]: [[0.971851 0.028149]]\n",
            "Predictions for [benign, cancer]: [[0.999977 0.000023]]\n",
            "Predictions for [benign, cancer]: [[0.982123 0.017877]]\n",
            "Predictions for [benign, cancer]: [[0.972999 0.027001]]\n"
          ]
        }
      ]
    },
    {
      "cell_type": "code",
      "source": [
        "# @title Plot AUC graph\n",
        "\n",
        "import matplotlib.pyplot as plt\n",
        "import sklearn.metrics\n",
        "from sklearn.metrics import roc_curve, auc\n",
        "\n",
        "fpr, tpr, thresholds = roc_curve(eval_ground_truth, eval_predictions)\n",
        "roc_auc = auc(fpr, tpr)\n",
        "\n",
        "plt.figure()\n",
        "plt.plot(fpr, tpr, color='darkorange', lw=2, label='ROC curve (area = %0.2f)' % roc_auc)\n",
        "plt.plot([0, 1], [0, 1], color='navy', lw=2, linestyle='--')\n",
        "plt.xlim([0.0, 1.0])\n",
        "plt.ylim([0.0, 1.01])\n",
        "plt.xlabel('False Positive Rate')\n",
        "plt.ylabel('True Positive Rate')\n",
        "plt.title('Receiver operating characteristic example')\n",
        "plt.legend(loc=\"lower right\")\n",
        "plt.show()\n",
        "\n",
        "print('AUC score:',sklearn.metrics.roc_auc_score(eval_ground_truth, eval_predictions))"
      ],
      "metadata": {
        "id": "6UebOVl4zyyl",
        "colab": {
          "base_uri": "https://localhost:8080/",
          "height": 489
        },
        "outputId": "644a78c8-8fc6-4ee9-a7aa-c13d18813cef"
      },
      "execution_count": null,
      "outputs": [
        {
          "output_type": "display_data",
          "data": {
            "text/plain": [
              "<Figure size 640x480 with 1 Axes>"
            ],
            "image/png": "[encoded data removed]"
          },
          "metadata": {}
        },
        {
          "output_type": "stream",
          "name": "stdout",
          "text": [
            "AUC score: 0.982177734375\n"
          ]
        }
      ]
    },
    {
      "cell_type": "code",
      "source": [
        "import sklearn.metrics\n",
        "import numpy as np\n",
        "\n",
        "# @title Find Youden's index for threshold selection\n",
        "\n",
        "thresholds = np.linspace(0, 1, 100)\n",
        "sensitivities = []\n",
        "specificities = []\n",
        "\n",
        "# Convert eval_ground_truth to a NumPy array\n",
        "eval_ground_truth_array = np.array(eval_ground_truth)\n",
        "\n",
        "# Iterate through thresholds and calculate sensitivity and specificity for each\n",
        "for threshold in thresholds:\n",
        "  predictions = np.array(eval_predictions) > threshold  # Convert predictions to NumPy array\n",
        "  sensitivities.append(sklearn.metrics.recall_score(eval_ground_truth_array, predictions))\n",
        "  specificities.append(\n",
        "      sklearn.metrics.recall_score(eval_ground_truth_array == 0, predictions == 0)\n",
        "  )\n",
        "\n",
        "# Find the index of the maximum Youden's index\n",
        "index = np.argmax(np.array(sensitivities) + np.array(specificities))\n",
        "best_threshold = thresholds[index]\n",
        "sens = sensitivities[index]\n",
        "spec = specificities[index]\n",
        "print(\n",
        "    f\"\\n\\nBest threshold: {round(best_threshold,2)}. Sensitivity is\"\n",
        "    f\" {round(sens*100,2)}% and Specificity is {round(spec*100,2)}% \"\n",
        ")"
      ],
      "metadata": {
        "id": "NxzI73MwOQ3B",
        "colab": {
          "base_uri": "https://localhost:8080/"
        },
        "outputId": "54bd81bd-a816-4258-92e4-d705e2d245ed"
      },
      "execution_count": null,
      "outputs": [
        {
          "output_type": "stream",
          "name": "stdout",
          "text": [
            "Best threshold: 0.63. Sensitivity is 96.88% and Specificity is 93.75% \n"
          ]
        }
      ]
    },
    {
      "metadata": {
        "id": "IWEcfgttY0zU"
      },
      "cell_type": "markdown",
      "source": [
        "# Next steps\n",
        "\n",
        " Explore the other [notebooks](https://github.com/google-health/path-foundation/blob/master/notebooks)."
      ]
    }
  ],
  "metadata": {
    "colab": {
      "provenance": [],
      "gpuType": "T4",
      "include_colab_link": true
    },
    "kernelspec": {
      "display_name": "Python 3",
      "name": "python3"
    },
    "language_info": {
      "name": "python"
    },
    "accelerator": "GPU"
  },
  "nbformat": 4,
  "nbformat_minor": 0
}